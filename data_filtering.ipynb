{
  "nbformat": 4,
  "nbformat_minor": 0,
  "metadata": {
    "colab": {
      "provenance": [],
      "authorship_tag": "ABX9TyOdxRnjIBKML1N1K7RJ9WnJ",
      "include_colab_link": true
    },
    "kernelspec": {
      "name": "python3",
      "display_name": "Python 3"
    },
    "language_info": {
      "name": "python"
    }
  },
  "cells": [
    {
      "cell_type": "markdown",
      "metadata": {
        "id": "view-in-github",
        "colab_type": "text"
      },
      "source": [
        "<a href=\"https://colab.research.google.com/github/Ishita-Si/SanRaksha/blob/main/data_filtering.ipynb\" target=\"_parent\"><img src=\"https://colab.research.google.com/assets/colab-badge.svg\" alt=\"Open In Colab\"/></a>"
      ]
    },
    {
      "cell_type": "code",
      "execution_count": 5,
      "metadata": {
        "id": "u8-MRPhkY9NX"
      },
      "outputs": [],
      "source": [
        "import pandas as pd\n",
        "\n",
        "def clean_health_dataset(df):\n",
        "\n",
        "    df['Previous Complications'] = df['Previous Complications'].map({'Yes': 1, 'No': 0})\n",
        "    df['Preexisting Diabetes'] = df['Preexisting Diabetes'].map({'Yes': 1, 'No': 0})\n",
        "\n",
        "    # Filter based on valid medical ranges\n",
        "    filtered_df = df[\n",
        "        (df['Systolic BP'] >= 90) & (df['Systolic BP'] <= 200) &\n",
        "        (df['Diastolic'] >= 60) & (df['Diastolic'] <= 120) &\n",
        "        (df['BS'] >= 60) & (df['BS'] <= 400) &\n",
        "        (df['BMI'] >= 10) & (df['BMI'] <= 60) &\n",
        "        (df['Heart Rate'] >= 40) & (df['Heart Rate'] <= 180) &\n",
        "        (df['Previous Complications'].isin([0, 1])) &\n",
        "        (df['Preexisting Diabetes'].isin([0, 1]))\n",
        "    ].copy()\n",
        "\n",
        "    return filtered_df\n"
      ]
    },
    {
      "cell_type": "code",
      "source": [
        "# Example dummy data\n",
        "data = {\n",
        "    'Systolic BP': [120, 250, 90],\n",
        "    'Diastolic': [80, 130, 70],\n",
        "    'BS': [100, 420, 85],\n",
        "    'BMI': [22.5, 65, 18],\n",
        "    'Previous Complications': ['Yes', 'No', 'Yes'],\n",
        "    'Preexisting Diabetes': ['No', 'Yes', 'No'],\n",
        "    'Heart Rate': [72, 190, 85]\n",
        "}\n",
        "\n",
        "df = pd.DataFrame(data)\n",
        "filtered_df = clean_health_dataset(df)\n",
        "print(filtered_df)\n",
        "\n",
        "\n"
      ],
      "metadata": {
        "colab": {
          "base_uri": "https://localhost:8080/"
        },
        "id": "QDKDxWjiZrpC",
        "outputId": "042bff16-e022-4486-fba1-b2e3c2a9f739"
      },
      "execution_count": 6,
      "outputs": [
        {
          "output_type": "stream",
          "name": "stdout",
          "text": [
            "   Systolic BP  Diastolic   BS   BMI  Previous Complications  \\\n",
            "0          120         80  100  22.5                       1   \n",
            "2           90         70   85  18.0                       1   \n",
            "\n",
            "   Preexisting Diabetes  Heart Rate  \n",
            "0                     0          72  \n",
            "2                     0          85  \n"
          ]
        }
      ]
    }
  ]
}