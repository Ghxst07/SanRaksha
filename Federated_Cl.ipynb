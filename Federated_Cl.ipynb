{
 "nbformat": 4,
 "nbformat_minor": 0,
 "metadata": {
  "colab": {
   "provenance": [],
   "gpuType": "T4",
   "toc_visible": true,
   "authorship_tag": "ABX9TyPm9Nft8Ec9CFhYm8XrJDKP",
   "include_colab_link": true
  },
  "kernelspec": {
   "name": "python3",
   "display_name": "Python 3 (ipykernel)",
   "language": "python"
  },
  "language_info": {
   "name": "python"
  },
  "accelerator": "GPU"
 },
 "cells": [
  {
   "cell_type": "markdown",
   "metadata": {
    "id": "view-in-github",
    "colab_type": "text"
   },
   "source": [
    "<a href=\"https://colab.research.google.com/github/Ghxst07/SanRaksha/blob/main/Federated_Cl.ipynb\" target=\"_parent\"><img src=\"https://colab.research.google.com/assets/colab-badge.svg\" alt=\"Open In Colab\"/></a>"
   ]
  },
  {
   "cell_type": "code",
   "metadata": {
    "colab": {
     "base_uri": "https://localhost:8080/"
    },
    "id": "Xa-wxTCZVCc9",
    "outputId": "cbb12461-f0fb-4290-da22-de1b3a386684",
    "ExecuteTime": {
     "end_time": "2025-05-28T19:30:16.715669Z",
     "start_time": "2025-05-28T19:28:15.750745Z"
    }
   },
   "source": [
    "!pip install flwr tensorflow\n",
    "!pip install protobuf>=5.26.1,<6.0dev cryptography<44 --quiet"
   ],
   "outputs": [
    {
     "name": "stdout",
     "output_type": "stream",
     "text": [
      "^C\n"
     ]
    },
    {
     "name": "stderr",
     "output_type": "stream",
     "text": [
      "The system cannot find the file specified.\n"
     ]
    }
   ],
   "execution_count": 1
  },
  {
   "cell_type": "code",
   "source": [
    "!pip install --upgrade --force-reinstall \"cryptography<44\"\n",
    "import tensorflow as tf\n",
    "from tensorflow.keras.models import Sequential\n",
    "from tensorflow.keras.layers import LSTM, Dense\n",
    "import flwr as fl"
   ],
   "metadata": {
    "id": "O0Sigu1kikvI",
    "colab": {
     "base_uri": "https://localhost:8080/"
    },
    "outputId": "6363de5a-f2f2-4eb1-b12a-2eaa0a38c22b"
   },
   "execution_count": 2,
   "outputs": [
    {
     "output_type": "stream",
     "name": "stdout",
     "text": [
      "Collecting cryptography<44\n",
      "  Using cached cryptography-43.0.3-cp39-abi3-manylinux_2_28_x86_64.whl.metadata (5.4 kB)\n",
      "Collecting cffi>=1.12 (from cryptography<44)\n",
      "  Using cached cffi-1.17.1-cp311-cp311-manylinux_2_17_x86_64.manylinux2014_x86_64.whl.metadata (1.5 kB)\n",
      "Collecting pycparser (from cffi>=1.12->cryptography<44)\n",
      "  Using cached pycparser-2.22-py3-none-any.whl.metadata (943 bytes)\n",
      "Using cached cryptography-43.0.3-cp39-abi3-manylinux_2_28_x86_64.whl (4.0 MB)\n",
      "Using cached cffi-1.17.1-cp311-cp311-manylinux_2_17_x86_64.manylinux2014_x86_64.whl (467 kB)\n",
      "Using cached pycparser-2.22-py3-none-any.whl (117 kB)\n",
      "Installing collected packages: pycparser, cffi, cryptography\n",
      "  Attempting uninstall: pycparser\n",
      "    Found existing installation: pycparser 2.22\n",
      "    Uninstalling pycparser-2.22:\n",
      "      Successfully uninstalled pycparser-2.22\n",
      "  Attempting uninstall: cffi\n",
      "    Found existing installation: cffi 1.17.1\n",
      "    Uninstalling cffi-1.17.1:\n",
      "      Successfully uninstalled cffi-1.17.1\n",
      "  Attempting uninstall: cryptography\n",
      "    Found existing installation: cryptography 44.0.2\n",
      "    Uninstalling cryptography-44.0.2:\n",
      "      Successfully uninstalled cryptography-44.0.2\n",
      "\u001B[31mERROR: pip's dependency resolver does not currently take into account all the packages that are installed. This behaviour is the source of the following dependency conflicts.\n",
      "flwr 1.17.0 requires cryptography<45.0.0,>=44.0.1, but you have cryptography 43.0.3 which is incompatible.\u001B[0m\u001B[31m\n",
      "\u001B[0mSuccessfully installed cffi-1.17.1 cryptography-43.0.3 pycparser-2.22\n"
     ]
    }
   ]
  },
  {
   "cell_type": "code",
   "source": [
    "model = Sequential()\n",
    "model.add(LSTM(64,return_sequences=True))\n",
    "model.add(Dense(1,activation='sigmoid'))\n",
    "model.compile(optimizer='adam', loss='binary_crossentropy', metrics=['accuracy'])"
   ],
   "metadata": {
    "id": "50xa1wL4jMHn"
   },
   "execution_count": 3,
   "outputs": []
  },
  {
   "cell_type": "code",
   "source": [
    "from re import X\n",
    "class FlowerClient(fl.client.NumPyClient):\n",
    "  def __init__(self,model,X_train,y_train,X_test,y_test):\n",
    "    self.model = model\n",
    "    self.X_train, self.y_train = X_train, y_train\n",
    "    self.X_test, self.y_test = X_test, y_test\n",
    "\n",
    "  def get_parameters(self, config):\n",
    "    return self.model.get_weights()\n",
    "  def fit(self,parameters,config):\n",
    "    self.model.set_weights(parameters)\n",
    "    self.model.fit(self.X_train,self.y_train,epoch=5,batch_size=0) #need to update batch size\n",
    "    return self.model.get_weights(), len(self.X_train), {}\n",
    "  def evaluate(self, parameters, config):\n",
    "    self.model.set_weights(parameters)\n",
    "    loss, accuracy = self.model.evaluate(self.X_test,self.y_test)\n",
    "    return loss, len(self.X_test), {'accuracy':accuracy}\n"
   ],
   "metadata": {
    "id": "lp0LrMkXQPar"
   },
   "execution_count": 4,
   "outputs": []
  },
  {
   "cell_type": "code",
   "source": [
    "fl.client.start_numpy_client(server_address,client=FlowerClient)"
   ],
   "metadata": {
    "id": "xlO29TzgU3pa"
   },
   "execution_count": null,
   "outputs": []
  }
 ]
}
